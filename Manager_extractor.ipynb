{
  "nbformat": 4,
  "nbformat_minor": 0,
  "metadata": {
    "colab": {
      "name": "Manager_extractor.ipynb",
      "provenance": [],
      "collapsed_sections": [],
      "toc_visible": true,
      "mount_file_id": "1MQ-Rm3MM8U1n2CmLaZMvwzc6o8hadOa9",
      "authorship_tag": "ABX9TyNMqEPgbsucv5QQDgxVj/Db"
    },
    "kernelspec": {
      "name": "python3",
      "display_name": "Python 3"
    },
    "language_info": {
      "name": "python"
    }
  },
  "cells": [
    {
      "cell_type": "code",
      "source": [
        "#!pip install yargy"
      ],
      "metadata": {
        "id": "MQKp5MgTbJX3"
      },
      "execution_count": 129,
      "outputs": []
    },
    {
      "cell_type": "code",
      "execution_count": 130,
      "metadata": {
        "id": "TabZrRk-oRoh"
      },
      "outputs": [],
      "source": [
        "import pandas as pd\n",
        "import numpy as np\n",
        "\n",
        "from yargy.tokenizer import MorphTokenizer\n",
        "from yargy import (\n",
        "    Parser,\n",
        "    or_, rule\n",
        ")\n",
        "from yargy.pipelines import morph_pipeline\n",
        "from yargy.predicates import (\n",
        "    eq, gram\n",
        ")"
      ]
    },
    {
      "cell_type": "code",
      "source": [
        "data = pd.read_csv('test_data.csv') #/content/drive/MyDrive/Bewise.ai/"
      ],
      "metadata": {
        "id": "QNf5GRb8ouRb"
      },
      "execution_count": 131,
      "outputs": []
    },
    {
      "cell_type": "code",
      "source": [
        "data.head()"
      ],
      "metadata": {
        "colab": {
          "base_uri": "https://localhost:8080/",
          "height": 206
        },
        "id": "GvumaW1CouNV",
        "outputId": "4987394f-fa5a-4a7b-9b8d-bf21406d587a"
      },
      "execution_count": 132,
      "outputs": [
        {
          "output_type": "execute_result",
          "data": {
            "text/plain": [
              "   dlg_id  line_n     role                                               text\n",
              "0       0       0   client                                               Алло\n",
              "1       0       1  manager                                  Алло здравствуйте\n",
              "2       0       2   client                                        Добрый день\n",
              "3       0       3  manager  Меня зовут ангелина компания диджитал бизнес з...\n",
              "4       0       4   client                                                Ага"
            ],
            "text/html": [
              "\n",
              "  <div id=\"df-45903d27-32a8-4445-9b94-2f89a85151cf\">\n",
              "    <div class=\"colab-df-container\">\n",
              "      <div>\n",
              "<style scoped>\n",
              "    .dataframe tbody tr th:only-of-type {\n",
              "        vertical-align: middle;\n",
              "    }\n",
              "\n",
              "    .dataframe tbody tr th {\n",
              "        vertical-align: top;\n",
              "    }\n",
              "\n",
              "    .dataframe thead th {\n",
              "        text-align: right;\n",
              "    }\n",
              "</style>\n",
              "<table border=\"1\" class=\"dataframe\">\n",
              "  <thead>\n",
              "    <tr style=\"text-align: right;\">\n",
              "      <th></th>\n",
              "      <th>dlg_id</th>\n",
              "      <th>line_n</th>\n",
              "      <th>role</th>\n",
              "      <th>text</th>\n",
              "    </tr>\n",
              "  </thead>\n",
              "  <tbody>\n",
              "    <tr>\n",
              "      <th>0</th>\n",
              "      <td>0</td>\n",
              "      <td>0</td>\n",
              "      <td>client</td>\n",
              "      <td>Алло</td>\n",
              "    </tr>\n",
              "    <tr>\n",
              "      <th>1</th>\n",
              "      <td>0</td>\n",
              "      <td>1</td>\n",
              "      <td>manager</td>\n",
              "      <td>Алло здравствуйте</td>\n",
              "    </tr>\n",
              "    <tr>\n",
              "      <th>2</th>\n",
              "      <td>0</td>\n",
              "      <td>2</td>\n",
              "      <td>client</td>\n",
              "      <td>Добрый день</td>\n",
              "    </tr>\n",
              "    <tr>\n",
              "      <th>3</th>\n",
              "      <td>0</td>\n",
              "      <td>3</td>\n",
              "      <td>manager</td>\n",
              "      <td>Меня зовут ангелина компания диджитал бизнес з...</td>\n",
              "    </tr>\n",
              "    <tr>\n",
              "      <th>4</th>\n",
              "      <td>0</td>\n",
              "      <td>4</td>\n",
              "      <td>client</td>\n",
              "      <td>Ага</td>\n",
              "    </tr>\n",
              "  </tbody>\n",
              "</table>\n",
              "</div>\n",
              "      <button class=\"colab-df-convert\" onclick=\"convertToInteractive('df-45903d27-32a8-4445-9b94-2f89a85151cf')\"\n",
              "              title=\"Convert this dataframe to an interactive table.\"\n",
              "              style=\"display:none;\">\n",
              "        \n",
              "  <svg xmlns=\"http://www.w3.org/2000/svg\" height=\"24px\"viewBox=\"0 0 24 24\"\n",
              "       width=\"24px\">\n",
              "    <path d=\"M0 0h24v24H0V0z\" fill=\"none\"/>\n",
              "    <path d=\"M18.56 5.44l.94 2.06.94-2.06 2.06-.94-2.06-.94-.94-2.06-.94 2.06-2.06.94zm-11 1L8.5 8.5l.94-2.06 2.06-.94-2.06-.94L8.5 2.5l-.94 2.06-2.06.94zm10 10l.94 2.06.94-2.06 2.06-.94-2.06-.94-.94-2.06-.94 2.06-2.06.94z\"/><path d=\"M17.41 7.96l-1.37-1.37c-.4-.4-.92-.59-1.43-.59-.52 0-1.04.2-1.43.59L10.3 9.45l-7.72 7.72c-.78.78-.78 2.05 0 2.83L4 21.41c.39.39.9.59 1.41.59.51 0 1.02-.2 1.41-.59l7.78-7.78 2.81-2.81c.8-.78.8-2.07 0-2.86zM5.41 20L4 18.59l7.72-7.72 1.47 1.35L5.41 20z\"/>\n",
              "  </svg>\n",
              "      </button>\n",
              "      \n",
              "  <style>\n",
              "    .colab-df-container {\n",
              "      display:flex;\n",
              "      flex-wrap:wrap;\n",
              "      gap: 12px;\n",
              "    }\n",
              "\n",
              "    .colab-df-convert {\n",
              "      background-color: #E8F0FE;\n",
              "      border: none;\n",
              "      border-radius: 50%;\n",
              "      cursor: pointer;\n",
              "      display: none;\n",
              "      fill: #1967D2;\n",
              "      height: 32px;\n",
              "      padding: 0 0 0 0;\n",
              "      width: 32px;\n",
              "    }\n",
              "\n",
              "    .colab-df-convert:hover {\n",
              "      background-color: #E2EBFA;\n",
              "      box-shadow: 0px 1px 2px rgba(60, 64, 67, 0.3), 0px 1px 3px 1px rgba(60, 64, 67, 0.15);\n",
              "      fill: #174EA6;\n",
              "    }\n",
              "\n",
              "    [theme=dark] .colab-df-convert {\n",
              "      background-color: #3B4455;\n",
              "      fill: #D2E3FC;\n",
              "    }\n",
              "\n",
              "    [theme=dark] .colab-df-convert:hover {\n",
              "      background-color: #434B5C;\n",
              "      box-shadow: 0px 1px 3px 1px rgba(0, 0, 0, 0.15);\n",
              "      filter: drop-shadow(0px 1px 2px rgba(0, 0, 0, 0.3));\n",
              "      fill: #FFFFFF;\n",
              "    }\n",
              "  </style>\n",
              "\n",
              "      <script>\n",
              "        const buttonEl =\n",
              "          document.querySelector('#df-45903d27-32a8-4445-9b94-2f89a85151cf button.colab-df-convert');\n",
              "        buttonEl.style.display =\n",
              "          google.colab.kernel.accessAllowed ? 'block' : 'none';\n",
              "\n",
              "        async function convertToInteractive(key) {\n",
              "          const element = document.querySelector('#df-45903d27-32a8-4445-9b94-2f89a85151cf');\n",
              "          const dataTable =\n",
              "            await google.colab.kernel.invokeFunction('convertToInteractive',\n",
              "                                                     [key], {});\n",
              "          if (!dataTable) return;\n",
              "\n",
              "          const docLinkHtml = 'Like what you see? Visit the ' +\n",
              "            '<a target=\"_blank\" href=https://colab.research.google.com/notebooks/data_table.ipynb>data table notebook</a>'\n",
              "            + ' to learn more about interactive tables.';\n",
              "          element.innerHTML = '';\n",
              "          dataTable['output_type'] = 'display_data';\n",
              "          await google.colab.output.renderOutput(dataTable, element);\n",
              "          const docLink = document.createElement('div');\n",
              "          docLink.innerHTML = docLinkHtml;\n",
              "          element.appendChild(docLink);\n",
              "        }\n",
              "      </script>\n",
              "    </div>\n",
              "  </div>\n",
              "  "
            ]
          },
          "metadata": {},
          "execution_count": 132
        }
      ]
    },
    {
      "cell_type": "code",
      "source": [
        "print('Count speeching =', len(data['dlg_id'].unique()))"
      ],
      "metadata": {
        "colab": {
          "base_uri": "https://localhost:8080/"
        },
        "id": "7iIOFJd5ot_x",
        "outputId": "e399a4bd-b1e6-4383-cded-12bddeccbcfb"
      },
      "execution_count": 133,
      "outputs": [
        {
          "output_type": "stream",
          "name": "stdout",
          "text": [
            "Count speeching = 6\n"
          ]
        }
      ]
    },
    {
      "cell_type": "markdown",
      "source": [
        "В тестовом датасете 6 диалогов различной длительности"
      ],
      "metadata": {
        "id": "Xd52YrxijlIe"
      }
    },
    {
      "cell_type": "markdown",
      "source": [
        "## Извлечение сущностей"
      ],
      "metadata": {
        "id": "NL2n29cwPteE"
      }
    },
    {
      "cell_type": "markdown",
      "source": [
        "### Yargy"
      ],
      "metadata": {
        "id": "dYD34kDEQX9w"
      }
    },
    {
      "cell_type": "code",
      "source": [
        "# Yargy"
      ],
      "metadata": {
        "id": "sLwJR5lnVjGU"
      },
      "execution_count": 134,
      "outputs": []
    },
    {
      "cell_type": "code",
      "source": [
        "# из дата фрейма возьмем только реплики менеджеров\n",
        "# т.к реплики приветствия и прощания менеджеров стандартизированы правилами компании\n",
        "# Приветствие и имя явно находятся в начале диалога, поэтому при работе функции\n",
        "# можно парсить только первые 3 строчки (в коде прорабатывается весь диалог на случай \"поводных камней\").\n",
        "# (Диалоги разной длительности)\n",
        "# Аналогично с окончанием разговора. \n",
        "\n",
        "manager_yargy = {}\n",
        "\n",
        "for i, group in data.groupby(by=['dlg_id', 'role']):\n",
        "  if i[1] == 'manager':\n",
        "    manager_yargy[i[0]] = list(group['text'])\n",
        "  print(f'В диалоге {i}, количество реплик = {len(group)}')  "
      ],
      "metadata": {
        "colab": {
          "base_uri": "https://localhost:8080/"
        },
        "id": "1l1bCSt8Ou8J",
        "outputId": "762539a1-1d3c-4ed5-92b5-9d7d31262434"
      },
      "execution_count": 135,
      "outputs": [
        {
          "output_type": "stream",
          "name": "stdout",
          "text": [
            "В диалоге (0, 'client'), количество реплик = 93\n",
            "В диалоге (0, 'manager'), количество реплик = 16\n",
            "В диалоге (1, 'client'), количество реплик = 26\n",
            "В диалоге (1, 'manager'), количество реплик = 29\n",
            "В диалоге (2, 'client'), количество реплик = 45\n",
            "В диалоге (2, 'manager'), количество реплик = 40\n",
            "В диалоге (3, 'client'), количество реплик = 31\n",
            "В диалоге (3, 'manager'), количество реплик = 22\n",
            "В диалоге (4, 'client'), количество реплик = 21\n",
            "В диалоге (4, 'manager'), количество реплик = 14\n",
            "В диалоге (5, 'client'), количество реплик = 63\n",
            "В диалоге (5, 'manager'), количество реплик = 80\n"
          ]
        }
      ]
    },
    {
      "cell_type": "markdown",
      "source": [
        "### RULES"
      ],
      "metadata": {
        "id": "46WLl_Gz0KFC"
      }
    },
    {
      "cell_type": "code",
      "source": [
        "# Name\n",
        "\n",
        "NAME = or_(\n",
        "    rule(\n",
        "        morph_pipeline(['звать']),\n",
        "        gram('Name')\n",
        "        ),\n",
        "\n",
        "    rule(\n",
        "        gram('Name'),\n",
        "        morph_pipeline(['звать'])\n",
        "        )\n",
        "      )\n",
        "\n",
        "# Company\n",
        "\n",
        "COMPANY = or_(\n",
        "    rule(\n",
        "        morph_pipeline(['компания']),\n",
        "        gram('NOUN'),\n",
        "        gram('NOUN').optional()\n",
        "    ),\n",
        "    rule(\n",
        "        morph_pipeline(['компания']),\n",
        "        gram('NOUN'),\n",
        "        eq('бизнес').optional()\n",
        "    ),\n",
        "\n",
        "    rule(\n",
        "        morph_pipeline(['компания']),\n",
        "        eq('диджитал').optional(),\n",
        "        gram('NOUN')\n",
        "        )\n",
        "    )\n",
        "\n",
        "# Приветствие - прощание\n",
        "\n",
        "HELLO = morph_pipeline([\n",
        "    'Здравствуй',\n",
        "    'Здравствуйте',\n",
        "    'Добрый день',\n",
        "    'Доброе утро',\n",
        "    'Привет',\n",
        "    'Добрый вечер',\n",
        "    'Добрый'\n",
        "])\n",
        "\n",
        "GOOD_BYE = morph_pipeline([\n",
        "    'До свидания',\n",
        "    'Приятного вечера',\n",
        "    'Всего доброго',\n",
        "    'Хорошего дня',\n",
        "    'Хорошего вечера'\n",
        "])"
      ],
      "metadata": {
        "id": "dWbz2Qg40OXH"
      },
      "execution_count": 136,
      "outputs": []
    },
    {
      "cell_type": "markdown",
      "source": [
        "### Extractor"
      ],
      "metadata": {
        "id": "vd1xeEAX7a6u"
      }
    },
    {
      "cell_type": "code",
      "source": [
        "def extractor(dialog, rules):\n",
        "  \n",
        "  parser = Parser(rules)\n",
        "\n",
        "  for replica in dialog:\n",
        "      matches = list(parser.findall(replica))\n",
        "      if matches and rules not in (NAME, COMPANY):\n",
        "        return replica\n",
        "      elif matches:\n",
        "        for match in matches:\n",
        "          toks = ' '.join([_.value for _ in match.tokens])\n",
        "          return [toks, replica]"
      ],
      "metadata": {
        "id": "mVyW7dPytXNs"
      },
      "execution_count": 137,
      "outputs": []
    },
    {
      "cell_type": "markdown",
      "source": [
        "## Итоговый датафрейм"
      ],
      "metadata": {
        "id": "mju13xn4bu9e"
      }
    },
    {
      "cell_type": "code",
      "source": [
        "# Таблица id, приветствие, представление, Имя, Компания, Прощание\n",
        "\n",
        "cosolidation_table = pd.DataFrame(index=manager_yargy)"
      ],
      "metadata": {
        "id": "mfCHEk2X8NBR"
      },
      "execution_count": 138,
      "outputs": []
    },
    {
      "cell_type": "code",
      "source": [
        "for i in range(len(manager_yargy)):\n",
        "\n",
        "  # hello\n",
        "  if extractor(manager_yargy[i], HELLO):\n",
        "    cosolidation_table.loc[i, 'hello'] = extractor(manager_yargy[i], HELLO)\n",
        "\n",
        "  # extract name + replica\n",
        "  if extractor(manager_yargy[i], NAME):\n",
        "    cosolidation_table.loc[i, 'replica_with_name'] = extractor(manager_yargy[i], NAME)[1]\n",
        "    cosolidation_table.loc[i, 'name'] = extractor(manager_yargy[i], NAME)[0]\n",
        "\n",
        "  # extract name_company (есть возможность вывести так же реплику)\n",
        "  if extractor(manager_yargy[i], COMPANY):\n",
        "    cosolidation_table.loc[i, 'name_company'] = extractor(manager_yargy[i], COMPANY)[0]\n",
        "\n",
        "  # bye\n",
        "  if extractor(manager_yargy[i], GOOD_BYE):\n",
        "    cosolidation_table.loc[i, 'bye'] = extractor(manager_yargy[i], GOOD_BYE)\n",
        "\n",
        "  # greeting\n",
        "  if extractor(manager_yargy[i], HELLO) and extractor(manager_yargy[i], GOOD_BYE):\n",
        "    cosolidation_table.loc[i, 'greeting'] = True\n",
        "  else: cosolidation_table.loc[i, 'greeting'] = False"
      ],
      "metadata": {
        "id": "ujS6ItqxNLme"
      },
      "execution_count": 139,
      "outputs": []
    },
    {
      "cell_type": "code",
      "source": [
        "cosolidation_table"
      ],
      "metadata": {
        "colab": {
          "base_uri": "https://localhost:8080/",
          "height": 368
        },
        "id": "bLTfueA4UGEa",
        "outputId": "a42d4f4c-6fb4-4d93-a23a-ccfaab5cf5df"
      },
      "execution_count": 140,
      "outputs": [
        {
          "output_type": "execute_result",
          "data": {
            "text/plain": [
              "                      hello  \\\n",
              "0         Алло здравствуйте   \n",
              "1         Алло здравствуйте   \n",
              "2         Алло здравствуйте   \n",
              "3  Алло дмитрий добрый день   \n",
              "4                       NaN   \n",
              "5                       NaN   \n",
              "\n",
              "                                   replica_with_name            name  \\\n",
              "0  Меня зовут ангелина компания диджитал бизнес з...  зовут ангелина   \n",
              "1  Меня зовут ангелина компания диджитал бизнес з...  зовут ангелина   \n",
              "2  Меня зовут ангелина компания диджитал бизнес з...  зовут ангелина   \n",
              "3  Добрый меня максим зовут компания китобизнес у...    максим зовут   \n",
              "4                                                NaN             NaN   \n",
              "5                                                NaN             NaN   \n",
              "\n",
              "               name_company  \\\n",
              "0  компания диджитал бизнес   \n",
              "1  компания диджитал бизнес   \n",
              "2  компания диджитал бизнес   \n",
              "3       компания китобизнес   \n",
              "4                       NaN   \n",
              "5                       NaN   \n",
              "\n",
              "                                                 bye greeting  \n",
              "0                         Всего хорошего до свидания     True  \n",
              "1                                        До свидания     True  \n",
              "2                                                NaN    False  \n",
              "3  Угу все хорошо да понедельника тогда всего доб...     True  \n",
              "4  Во вторник все ну с вами да тогда до вторника ...    False  \n",
              "5                     Ну до свидания хорошего вечера    False  "
            ],
            "text/html": [
              "\n",
              "  <div id=\"df-db250d21-49d1-49f7-b49f-f471b626b564\">\n",
              "    <div class=\"colab-df-container\">\n",
              "      <div>\n",
              "<style scoped>\n",
              "    .dataframe tbody tr th:only-of-type {\n",
              "        vertical-align: middle;\n",
              "    }\n",
              "\n",
              "    .dataframe tbody tr th {\n",
              "        vertical-align: top;\n",
              "    }\n",
              "\n",
              "    .dataframe thead th {\n",
              "        text-align: right;\n",
              "    }\n",
              "</style>\n",
              "<table border=\"1\" class=\"dataframe\">\n",
              "  <thead>\n",
              "    <tr style=\"text-align: right;\">\n",
              "      <th></th>\n",
              "      <th>hello</th>\n",
              "      <th>replica_with_name</th>\n",
              "      <th>name</th>\n",
              "      <th>name_company</th>\n",
              "      <th>bye</th>\n",
              "      <th>greeting</th>\n",
              "    </tr>\n",
              "  </thead>\n",
              "  <tbody>\n",
              "    <tr>\n",
              "      <th>0</th>\n",
              "      <td>Алло здравствуйте</td>\n",
              "      <td>Меня зовут ангелина компания диджитал бизнес з...</td>\n",
              "      <td>зовут ангелина</td>\n",
              "      <td>компания диджитал бизнес</td>\n",
              "      <td>Всего хорошего до свидания</td>\n",
              "      <td>True</td>\n",
              "    </tr>\n",
              "    <tr>\n",
              "      <th>1</th>\n",
              "      <td>Алло здравствуйте</td>\n",
              "      <td>Меня зовут ангелина компания диджитал бизнес з...</td>\n",
              "      <td>зовут ангелина</td>\n",
              "      <td>компания диджитал бизнес</td>\n",
              "      <td>До свидания</td>\n",
              "      <td>True</td>\n",
              "    </tr>\n",
              "    <tr>\n",
              "      <th>2</th>\n",
              "      <td>Алло здравствуйте</td>\n",
              "      <td>Меня зовут ангелина компания диджитал бизнес з...</td>\n",
              "      <td>зовут ангелина</td>\n",
              "      <td>компания диджитал бизнес</td>\n",
              "      <td>NaN</td>\n",
              "      <td>False</td>\n",
              "    </tr>\n",
              "    <tr>\n",
              "      <th>3</th>\n",
              "      <td>Алло дмитрий добрый день</td>\n",
              "      <td>Добрый меня максим зовут компания китобизнес у...</td>\n",
              "      <td>максим зовут</td>\n",
              "      <td>компания китобизнес</td>\n",
              "      <td>Угу все хорошо да понедельника тогда всего доб...</td>\n",
              "      <td>True</td>\n",
              "    </tr>\n",
              "    <tr>\n",
              "      <th>4</th>\n",
              "      <td>NaN</td>\n",
              "      <td>NaN</td>\n",
              "      <td>NaN</td>\n",
              "      <td>NaN</td>\n",
              "      <td>Во вторник все ну с вами да тогда до вторника ...</td>\n",
              "      <td>False</td>\n",
              "    </tr>\n",
              "    <tr>\n",
              "      <th>5</th>\n",
              "      <td>NaN</td>\n",
              "      <td>NaN</td>\n",
              "      <td>NaN</td>\n",
              "      <td>NaN</td>\n",
              "      <td>Ну до свидания хорошего вечера</td>\n",
              "      <td>False</td>\n",
              "    </tr>\n",
              "  </tbody>\n",
              "</table>\n",
              "</div>\n",
              "      <button class=\"colab-df-convert\" onclick=\"convertToInteractive('df-db250d21-49d1-49f7-b49f-f471b626b564')\"\n",
              "              title=\"Convert this dataframe to an interactive table.\"\n",
              "              style=\"display:none;\">\n",
              "        \n",
              "  <svg xmlns=\"http://www.w3.org/2000/svg\" height=\"24px\"viewBox=\"0 0 24 24\"\n",
              "       width=\"24px\">\n",
              "    <path d=\"M0 0h24v24H0V0z\" fill=\"none\"/>\n",
              "    <path d=\"M18.56 5.44l.94 2.06.94-2.06 2.06-.94-2.06-.94-.94-2.06-.94 2.06-2.06.94zm-11 1L8.5 8.5l.94-2.06 2.06-.94-2.06-.94L8.5 2.5l-.94 2.06-2.06.94zm10 10l.94 2.06.94-2.06 2.06-.94-2.06-.94-.94-2.06-.94 2.06-2.06.94z\"/><path d=\"M17.41 7.96l-1.37-1.37c-.4-.4-.92-.59-1.43-.59-.52 0-1.04.2-1.43.59L10.3 9.45l-7.72 7.72c-.78.78-.78 2.05 0 2.83L4 21.41c.39.39.9.59 1.41.59.51 0 1.02-.2 1.41-.59l7.78-7.78 2.81-2.81c.8-.78.8-2.07 0-2.86zM5.41 20L4 18.59l7.72-7.72 1.47 1.35L5.41 20z\"/>\n",
              "  </svg>\n",
              "      </button>\n",
              "      \n",
              "  <style>\n",
              "    .colab-df-container {\n",
              "      display:flex;\n",
              "      flex-wrap:wrap;\n",
              "      gap: 12px;\n",
              "    }\n",
              "\n",
              "    .colab-df-convert {\n",
              "      background-color: #E8F0FE;\n",
              "      border: none;\n",
              "      border-radius: 50%;\n",
              "      cursor: pointer;\n",
              "      display: none;\n",
              "      fill: #1967D2;\n",
              "      height: 32px;\n",
              "      padding: 0 0 0 0;\n",
              "      width: 32px;\n",
              "    }\n",
              "\n",
              "    .colab-df-convert:hover {\n",
              "      background-color: #E2EBFA;\n",
              "      box-shadow: 0px 1px 2px rgba(60, 64, 67, 0.3), 0px 1px 3px 1px rgba(60, 64, 67, 0.15);\n",
              "      fill: #174EA6;\n",
              "    }\n",
              "\n",
              "    [theme=dark] .colab-df-convert {\n",
              "      background-color: #3B4455;\n",
              "      fill: #D2E3FC;\n",
              "    }\n",
              "\n",
              "    [theme=dark] .colab-df-convert:hover {\n",
              "      background-color: #434B5C;\n",
              "      box-shadow: 0px 1px 3px 1px rgba(0, 0, 0, 0.15);\n",
              "      filter: drop-shadow(0px 1px 2px rgba(0, 0, 0, 0.3));\n",
              "      fill: #FFFFFF;\n",
              "    }\n",
              "  </style>\n",
              "\n",
              "      <script>\n",
              "        const buttonEl =\n",
              "          document.querySelector('#df-db250d21-49d1-49f7-b49f-f471b626b564 button.colab-df-convert');\n",
              "        buttonEl.style.display =\n",
              "          google.colab.kernel.accessAllowed ? 'block' : 'none';\n",
              "\n",
              "        async function convertToInteractive(key) {\n",
              "          const element = document.querySelector('#df-db250d21-49d1-49f7-b49f-f471b626b564');\n",
              "          const dataTable =\n",
              "            await google.colab.kernel.invokeFunction('convertToInteractive',\n",
              "                                                     [key], {});\n",
              "          if (!dataTable) return;\n",
              "\n",
              "          const docLinkHtml = 'Like what you see? Visit the ' +\n",
              "            '<a target=\"_blank\" href=https://colab.research.google.com/notebooks/data_table.ipynb>data table notebook</a>'\n",
              "            + ' to learn more about interactive tables.';\n",
              "          element.innerHTML = '';\n",
              "          dataTable['output_type'] = 'display_data';\n",
              "          await google.colab.output.renderOutput(dataTable, element);\n",
              "          const docLink = document.createElement('div');\n",
              "          docLink.innerHTML = docLinkHtml;\n",
              "          element.appendChild(docLink);\n",
              "        }\n",
              "      </script>\n",
              "    </div>\n",
              "  </div>\n",
              "  "
            ]
          },
          "metadata": {},
          "execution_count": 140
        }
      ]
    },
    {
      "cell_type": "code",
      "source": [
        "cosolidation_table.to_csv('cosolidation_table.csv') #/content/drive/MyDrive/Bewise.ai/"
      ],
      "metadata": {
        "id": "nOwwSmCxmm4t"
      },
      "execution_count": 141,
      "outputs": []
    }
  ]
}